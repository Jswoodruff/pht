{
 "cells": [
  {
   "cell_type": "code",
   "execution_count": 1,
   "metadata": {},
   "outputs": [],
   "source": [
    "import pandas as pd\n",
    "import numpy as np\n",
    "import os \n",
    "from pathlib import Path\n",
    "import warnings\n",
    "import matplotlib.pyplot as plt\n",
    "\n",
    "warnings.filterwarnings(\"ignore\")"
   ]
  },
  {
   "cell_type": "code",
   "execution_count": 2,
   "metadata": {},
   "outputs": [],
   "source": [
    "# filepath2 = os.path.join(Path(__file__).parents[1], 'data\\Trend_Full_Data_data (1).xlsx')"
   ]
  },
  {
   "cell_type": "code",
   "execution_count": 5,
   "metadata": {},
   "outputs": [],
   "source": [
    "# filepath2 = os.path.join(Path(__file__).parents[1], 'data\\FICS48HourCallBack(1).xlsx')\n",
    "# df = pd.read_excel(r'C:\\Users\\jwood\\OneDrive\\Desktop\\Work Folder\\Work Folder\\Project_2\\data\\BP Tool Usage Detail(1).xlsx', skiprows=2, header=0)\n",
    "\n",
    "df = pd.read_excel(r'C:\\Users\\jwood\\OneDrive\\Desktop\\Work Folder\\Work Folder\\Project_2\\data\\Trend_Full_Data_data (1).xlsx', header = 0)"
   ]
  },
  {
   "cell_type": "code",
   "execution_count": 6,
   "metadata": {},
   "outputs": [
    {
     "data": {
      "text/html": [
       "<div>\n",
       "<style scoped>\n",
       "    .dataframe tbody tr th:only-of-type {\n",
       "        vertical-align: middle;\n",
       "    }\n",
       "\n",
       "    .dataframe tbody tr th {\n",
       "        vertical-align: top;\n",
       "    }\n",
       "\n",
       "    .dataframe thead th {\n",
       "        text-align: right;\n",
       "    }\n",
       "</style>\n",
       "<table border=\"1\" class=\"dataframe\">\n",
       "  <thead>\n",
       "    <tr style=\"text-align: right;\">\n",
       "      <th></th>\n",
       "      <th>Period</th>\n",
       "      <th>Howler % Lable</th>\n",
       "      <th>Howler Eligible  Lable</th>\n",
       "      <th>Howler Lable</th>\n",
       "      <th>BPSelect</th>\n",
       "      <th>Complete Date</th>\n",
       "      <th>Customer Class</th>\n",
       "      <th>Division</th>\n",
       "      <th>Dwell Category</th>\n",
       "      <th>JobTypeCD</th>\n",
       "      <th>...</th>\n",
       "      <th>XM User</th>\n",
       "      <th>XM User Only%</th>\n",
       "      <th>XM User WO%</th>\n",
       "      <th>XM UserWO</th>\n",
       "      <th>XM WO</th>\n",
       "      <th>XM WO Only%</th>\n",
       "      <th>XMCompliance</th>\n",
       "      <th>XMFails</th>\n",
       "      <th>XMNULL</th>\n",
       "      <th>XMTestFail</th>\n",
       "    </tr>\n",
       "  </thead>\n",
       "  <tbody>\n",
       "    <tr>\n",
       "      <th>0</th>\n",
       "      <td>2022-08-01</td>\n",
       "      <td>NaN</td>\n",
       "      <td>NaN</td>\n",
       "      <td>NaN</td>\n",
       "      <td>True</td>\n",
       "      <td>2022-08-21</td>\n",
       "      <td>Residential</td>\n",
       "      <td>WEST DIVISION</td>\n",
       "      <td>Single Family Residence</td>\n",
       "      <td>9</td>\n",
       "      <td>...</td>\n",
       "      <td>0</td>\n",
       "      <td>NaN</td>\n",
       "      <td>NaN</td>\n",
       "      <td>0</td>\n",
       "      <td>0</td>\n",
       "      <td>NaN</td>\n",
       "      <td>0</td>\n",
       "      <td>0</td>\n",
       "      <td>0</td>\n",
       "      <td>0</td>\n",
       "    </tr>\n",
       "    <tr>\n",
       "      <th>1</th>\n",
       "      <td>2022-08-01</td>\n",
       "      <td>NaN</td>\n",
       "      <td>NaN</td>\n",
       "      <td>NaN</td>\n",
       "      <td>True</td>\n",
       "      <td>2022-08-21</td>\n",
       "      <td>Residential</td>\n",
       "      <td>WEST DIVISION</td>\n",
       "      <td>Single Family Residence</td>\n",
       "      <td>9</td>\n",
       "      <td>...</td>\n",
       "      <td>0</td>\n",
       "      <td>NaN</td>\n",
       "      <td>NaN</td>\n",
       "      <td>0</td>\n",
       "      <td>0</td>\n",
       "      <td>NaN</td>\n",
       "      <td>0</td>\n",
       "      <td>0</td>\n",
       "      <td>0</td>\n",
       "      <td>0</td>\n",
       "    </tr>\n",
       "    <tr>\n",
       "      <th>2</th>\n",
       "      <td>2022-08-01</td>\n",
       "      <td>NaN</td>\n",
       "      <td>NaN</td>\n",
       "      <td>NaN</td>\n",
       "      <td>True</td>\n",
       "      <td>2022-08-21</td>\n",
       "      <td>Residential</td>\n",
       "      <td>WEST DIVISION</td>\n",
       "      <td>Single Family Residence</td>\n",
       "      <td>3</td>\n",
       "      <td>...</td>\n",
       "      <td>0</td>\n",
       "      <td>NaN</td>\n",
       "      <td>NaN</td>\n",
       "      <td>0</td>\n",
       "      <td>0</td>\n",
       "      <td>NaN</td>\n",
       "      <td>0</td>\n",
       "      <td>0</td>\n",
       "      <td>0</td>\n",
       "      <td>0</td>\n",
       "    </tr>\n",
       "    <tr>\n",
       "      <th>3</th>\n",
       "      <td>2022-08-01</td>\n",
       "      <td>NaN</td>\n",
       "      <td>NaN</td>\n",
       "      <td>NaN</td>\n",
       "      <td>True</td>\n",
       "      <td>2022-08-21</td>\n",
       "      <td>Residential</td>\n",
       "      <td>WEST DIVISION</td>\n",
       "      <td>Single Family Residence</td>\n",
       "      <td>3</td>\n",
       "      <td>...</td>\n",
       "      <td>0</td>\n",
       "      <td>NaN</td>\n",
       "      <td>NaN</td>\n",
       "      <td>0</td>\n",
       "      <td>0</td>\n",
       "      <td>NaN</td>\n",
       "      <td>0</td>\n",
       "      <td>0</td>\n",
       "      <td>0</td>\n",
       "      <td>0</td>\n",
       "    </tr>\n",
       "    <tr>\n",
       "      <th>4</th>\n",
       "      <td>2022-08-01</td>\n",
       "      <td>NaN</td>\n",
       "      <td>NaN</td>\n",
       "      <td>NaN</td>\n",
       "      <td>True</td>\n",
       "      <td>2022-08-21</td>\n",
       "      <td>Residential</td>\n",
       "      <td>WEST DIVISION</td>\n",
       "      <td>Single Family Residence</td>\n",
       "      <td>3</td>\n",
       "      <td>...</td>\n",
       "      <td>0</td>\n",
       "      <td>NaN</td>\n",
       "      <td>NaN</td>\n",
       "      <td>0</td>\n",
       "      <td>0</td>\n",
       "      <td>NaN</td>\n",
       "      <td>0</td>\n",
       "      <td>0</td>\n",
       "      <td>0</td>\n",
       "      <td>0</td>\n",
       "    </tr>\n",
       "  </tbody>\n",
       "</table>\n",
       "<p>5 rows × 111 columns</p>\n",
       "</div>"
      ],
      "text/plain": [
       "      Period  Howler % Lable  Howler Eligible  Lable  Howler Lable  BPSelect  \\\n",
       "0 2022-08-01             NaN                     NaN           NaN      True   \n",
       "1 2022-08-01             NaN                     NaN           NaN      True   \n",
       "2 2022-08-01             NaN                     NaN           NaN      True   \n",
       "3 2022-08-01             NaN                     NaN           NaN      True   \n",
       "4 2022-08-01             NaN                     NaN           NaN      True   \n",
       "\n",
       "  Complete Date Customer Class       Division           Dwell Category  \\\n",
       "0    2022-08-21    Residential  WEST DIVISION  Single Family Residence   \n",
       "1    2022-08-21    Residential  WEST DIVISION  Single Family Residence   \n",
       "2    2022-08-21    Residential  WEST DIVISION  Single Family Residence   \n",
       "3    2022-08-21    Residential  WEST DIVISION  Single Family Residence   \n",
       "4    2022-08-21    Residential  WEST DIVISION  Single Family Residence   \n",
       "\n",
       "  JobTypeCD  ... XM User XM User Only% XM User WO% XM UserWO  XM WO  \\\n",
       "0         9  ...       0           NaN         NaN         0      0   \n",
       "1         9  ...       0           NaN         NaN         0      0   \n",
       "2         3  ...       0           NaN         NaN         0      0   \n",
       "3         3  ...       0           NaN         NaN         0      0   \n",
       "4         3  ...       0           NaN         NaN         0      0   \n",
       "\n",
       "   XM WO Only%  XMCompliance XMFails XMNULL XMTestFail  \n",
       "0          NaN             0       0      0          0  \n",
       "1          NaN             0       0      0          0  \n",
       "2          NaN             0       0      0          0  \n",
       "3          NaN             0       0      0          0  \n",
       "4          NaN             0       0      0          0  \n",
       "\n",
       "[5 rows x 111 columns]"
      ]
     },
     "execution_count": 6,
     "metadata": {},
     "output_type": "execute_result"
    }
   ],
   "source": [
    "df.head()\n"
   ]
  },
  {
   "cell_type": "code",
   "execution_count": 4,
   "metadata": {},
   "outputs": [],
   "source": [
    "pht = df[['Complete Date', 'Tech ID', 'PHT Result', 'Region', 'System']]\n",
    "wa_pht = pht[pht['Region'] == 'SEATTLE REGION']\n",
    "spokane_pht = wa_pht[wa_pht['System'] == \"SPOKANE, WA\"]\n",
    "sea_pht = wa_pht[wa_pht['System'] != \"SPOKANE, WA\"]"
   ]
  },
  {
   "cell_type": "code",
   "execution_count": 20,
   "metadata": {},
   "outputs": [],
   "source": [
    "# sea_pht"
   ]
  },
  {
   "cell_type": "code",
   "execution_count": 21,
   "metadata": {},
   "outputs": [],
   "source": [
    "# sea_pht[['Tech ID', 'PHT Result']][sea_pht['Tech ID'] == 8465].value_counts()"
   ]
  },
  {
   "cell_type": "code",
   "execution_count": 6,
   "metadata": {},
   "outputs": [],
   "source": [
    "pht_fail = sea_pht['PHT Result'].value_counts().sort_index()[0]\n",
    "pht_pass = sea_pht['PHT Result'].value_counts().sort_index()[1]\n",
    "pht_pww = sea_pht['PHT Result'].value_counts().sort_index()[3]"
   ]
  },
  {
   "cell_type": "code",
   "execution_count": 23,
   "metadata": {},
   "outputs": [],
   "source": [
    "def sort_pht ():\n",
    "\n",
    "    df = pd.DataFrame(columns = ['Tech ID', 'PHT Fail', 'PHT Pass', 'PHT PWO', 'PHT PWW'])\n",
    "    \n",
    "    for id in sea_pht['Tech ID']:\n",
    "        tech_pht = sea_pht[['Tech ID', 'PHT Result']][sea_pht['Tech ID'] == id].value_counts().sort_index()\n",
    "        df.loc[len(df)] = tech_pht\n",
    "\n",
    "    return tech_pht"
   ]
  },
  {
   "cell_type": "code",
   "execution_count": 24,
   "metadata": {},
   "outputs": [
    {
     "data": {
      "text/plain": [
       "Tech ID  PHT Result\n",
       "8331     PAS           22\n",
       "         PWW           10\n",
       "dtype: int64"
      ]
     },
     "execution_count": 24,
     "metadata": {},
     "output_type": "execute_result"
    }
   ],
   "source": [
    "sort_pht()"
   ]
  },
  {
   "cell_type": "code",
   "execution_count": 25,
   "metadata": {},
   "outputs": [],
   "source": [
    "def run_app():\n",
    "    \n",
    "\n",
    "    pht = df[['Complete Date', 'Tech ID', 'PHT Result', 'Region', 'System']]\n",
    "    wa_pht = pht[pht['Region'] == 'SEATTLE REGION']\n",
    "    spokane_pht = wa_pht[wa_pht['System'] == \"SPOKANE, WA\"]\n",
    "    sea_pht = wa_pht[wa_pht['System'] != \"SPOKANE, WA\"]\n",
    "\n",
    "\n",
    "    test = sea_pht['PHT Result'].value_counts().sort_index()\n",
    "\n",
    "    return print(test)"
   ]
  },
  {
   "cell_type": "code",
   "execution_count": 26,
   "metadata": {},
   "outputs": [
    {
     "name": "stdout",
     "output_type": "stream",
     "text": [
      "FAL       3\n",
      "PAS    1149\n",
      "PWO      16\n",
      "PWW     582\n",
      "Name: PHT Result, dtype: int64\n"
     ]
    }
   ],
   "source": [
    "run_app()"
   ]
  },
  {
   "cell_type": "code",
   "execution_count": null,
   "metadata": {},
   "outputs": [],
   "source": []
  }
 ],
 "metadata": {
  "kernelspec": {
   "display_name": "Python 3.10.7 64-bit (microsoft store)",
   "language": "python",
   "name": "python3"
  },
  "language_info": {
   "codemirror_mode": {
    "name": "ipython",
    "version": 3
   },
   "file_extension": ".py",
   "mimetype": "text/x-python",
   "name": "python",
   "nbconvert_exporter": "python",
   "pygments_lexer": "ipython3",
   "version": "3.10.7"
  },
  "orig_nbformat": 4,
  "vscode": {
   "interpreter": {
    "hash": "2a9fe614fdad468b7a4820591bc79c123cb436a8bc5504c65d8df4085e1805de"
   }
  }
 },
 "nbformat": 4,
 "nbformat_minor": 2
}
