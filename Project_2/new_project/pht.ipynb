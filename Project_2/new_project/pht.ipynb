{
 "cells": [
  {
   "cell_type": "code",
   "execution_count": 36,
   "metadata": {},
   "outputs": [],
   "source": [
    "import pandas as pd\n",
    "import numpy as np\n",
    "import os \n",
    "from pathlib import Path\n",
    "import warnings\n",
    "import matplotlib.pyplot as plt\n",
    "\n",
    "warnings.filterwarnings(\"ignore\")"
   ]
  },
  {
   "cell_type": "code",
   "execution_count": null,
   "metadata": {},
   "outputs": [],
   "source": [
    "import pht"
   ]
  },
  {
   "cell_type": "code",
   "execution_count": 37,
   "metadata": {},
   "outputs": [],
   "source": [
    "# filepath2 = os.path.join(Path(__file__).parents[1], 'data\\Trend_Full_Data_data (1).xlsx')"
   ]
  },
  {
   "cell_type": "code",
   "execution_count": 38,
   "metadata": {},
   "outputs": [],
   "source": [
    "# filepath2 = os.path.join(Path(__file__).parents[1], 'data\\FICS48HourCallBack(1).xlsx')\n",
    "# df = pd.read_excel(r'C:\\Users\\jwood\\OneDrive\\Desktop\\Work Folder\\Work Folder\\Project_2\\data\\BP Tool Usage Detail(1).xlsx', skiprows=2, header=0)\n",
    "\n",
    "df = pd.read_excel(r'C:\\Users\\jwood\\OneDrive\\Desktop\\Work Folder\\Work Folder\\Project_2\\data\\Trend_Full_Data_data (1).xlsx')"
   ]
  },
  {
   "cell_type": "code",
   "execution_count": 39,
   "metadata": {},
   "outputs": [
    {
     "data": {
      "text/plain": [
       "Index(['Period', 'Howler % Lable', 'Howler Eligible  Lable', 'Howler Lable',\n",
       "       'BPSelect', 'Complete Date', 'Customer Class', 'Division',\n",
       "       'Dwell Category', 'JobTypeCD',\n",
       "       ...\n",
       "       'XM User', 'XM User Only%', 'XM User WO%', 'XM UserWO', 'XM WO',\n",
       "       'XM WO Only%', 'XMCompliance', 'XMFails', 'XMNULL', 'XMTestFail'],\n",
       "      dtype='object', length=111)"
      ]
     },
     "execution_count": 39,
     "metadata": {},
     "output_type": "execute_result"
    }
   ],
   "source": [
    "df.columns"
   ]
  },
  {
   "cell_type": "code",
   "execution_count": 40,
   "metadata": {},
   "outputs": [],
   "source": [
    "pht = df[['Complete Date', 'Tech ID', 'PHT Result', 'Region', 'System']]\n",
    "wa_pht = pht[pht['Region'] == 'SEATTLE REGION']\n",
    "spokane_pht = wa_pht[wa_pht['System'] == \"SPOKANE, WA\"]\n",
    "sea_pht = wa_pht[wa_pht['System'] != \"SPOKANE, WA\"]\n",
    "\n"
   ]
  },
  {
   "cell_type": "code",
   "execution_count": 41,
   "metadata": {},
   "outputs": [
    {
     "data": {
      "text/html": [
       "<div>\n",
       "<style scoped>\n",
       "    .dataframe tbody tr th:only-of-type {\n",
       "        vertical-align: middle;\n",
       "    }\n",
       "\n",
       "    .dataframe tbody tr th {\n",
       "        vertical-align: top;\n",
       "    }\n",
       "\n",
       "    .dataframe thead th {\n",
       "        text-align: right;\n",
       "    }\n",
       "</style>\n",
       "<table border=\"1\" class=\"dataframe\">\n",
       "  <thead>\n",
       "    <tr style=\"text-align: right;\">\n",
       "      <th></th>\n",
       "      <th>Complete Date</th>\n",
       "      <th>Tech ID</th>\n",
       "      <th>PHT Result</th>\n",
       "      <th>Region</th>\n",
       "      <th>System</th>\n",
       "    </tr>\n",
       "  </thead>\n",
       "  <tbody>\n",
       "    <tr>\n",
       "      <th>79</th>\n",
       "      <td>2022-08-21</td>\n",
       "      <td>8465</td>\n",
       "      <td>PAS</td>\n",
       "      <td>SEATTLE REGION</td>\n",
       "      <td>WASHINGTON WEST, WA</td>\n",
       "    </tr>\n",
       "    <tr>\n",
       "      <th>80</th>\n",
       "      <td>2022-08-21</td>\n",
       "      <td>8307</td>\n",
       "      <td>PAS</td>\n",
       "      <td>SEATTLE REGION</td>\n",
       "      <td>WASHINGTON WEST, WA</td>\n",
       "    </tr>\n",
       "    <tr>\n",
       "      <th>83</th>\n",
       "      <td>2022-08-21</td>\n",
       "      <td>8333</td>\n",
       "      <td>PAS</td>\n",
       "      <td>SEATTLE REGION</td>\n",
       "      <td>WASHINGTON WEST, WA</td>\n",
       "    </tr>\n",
       "    <tr>\n",
       "      <th>84</th>\n",
       "      <td>2022-08-21</td>\n",
       "      <td>8353</td>\n",
       "      <td>PAS</td>\n",
       "      <td>SEATTLE REGION</td>\n",
       "      <td>WASHINGTON EAST, WA</td>\n",
       "    </tr>\n",
       "    <tr>\n",
       "      <th>85</th>\n",
       "      <td>2022-08-21</td>\n",
       "      <td>8382</td>\n",
       "      <td>PAS</td>\n",
       "      <td>SEATTLE REGION</td>\n",
       "      <td>WASHINGTON WEST, WA</td>\n",
       "    </tr>\n",
       "    <tr>\n",
       "      <th>...</th>\n",
       "      <td>...</td>\n",
       "      <td>...</td>\n",
       "      <td>...</td>\n",
       "      <td>...</td>\n",
       "      <td>...</td>\n",
       "    </tr>\n",
       "    <tr>\n",
       "      <th>5014</th>\n",
       "      <td>2022-08-22</td>\n",
       "      <td>8453</td>\n",
       "      <td>PWW</td>\n",
       "      <td>SEATTLE REGION</td>\n",
       "      <td>WASHINGTON EAST, WA</td>\n",
       "    </tr>\n",
       "    <tr>\n",
       "      <th>5015</th>\n",
       "      <td>2022-08-22</td>\n",
       "      <td>8344</td>\n",
       "      <td>PWW</td>\n",
       "      <td>SEATTLE REGION</td>\n",
       "      <td>WASHINGTON EAST, WA</td>\n",
       "    </tr>\n",
       "    <tr>\n",
       "      <th>5016</th>\n",
       "      <td>2022-08-22</td>\n",
       "      <td>8348</td>\n",
       "      <td>PWW</td>\n",
       "      <td>SEATTLE REGION</td>\n",
       "      <td>WASHINGTON WEST, WA</td>\n",
       "    </tr>\n",
       "    <tr>\n",
       "      <th>5017</th>\n",
       "      <td>2022-08-22</td>\n",
       "      <td>8347</td>\n",
       "      <td>PWW</td>\n",
       "      <td>SEATTLE REGION</td>\n",
       "      <td>WASHINGTON WEST, WA</td>\n",
       "    </tr>\n",
       "    <tr>\n",
       "      <th>5018</th>\n",
       "      <td>2022-08-22</td>\n",
       "      <td>8331</td>\n",
       "      <td>PWW</td>\n",
       "      <td>SEATTLE REGION</td>\n",
       "      <td>WASHINGTON EAST, WA</td>\n",
       "    </tr>\n",
       "  </tbody>\n",
       "</table>\n",
       "<p>1750 rows × 5 columns</p>\n",
       "</div>"
      ],
      "text/plain": [
       "     Complete Date  Tech ID PHT Result          Region               System\n",
       "79      2022-08-21     8465        PAS  SEATTLE REGION  WASHINGTON WEST, WA\n",
       "80      2022-08-21     8307        PAS  SEATTLE REGION  WASHINGTON WEST, WA\n",
       "83      2022-08-21     8333        PAS  SEATTLE REGION  WASHINGTON WEST, WA\n",
       "84      2022-08-21     8353        PAS  SEATTLE REGION  WASHINGTON EAST, WA\n",
       "85      2022-08-21     8382        PAS  SEATTLE REGION  WASHINGTON WEST, WA\n",
       "...            ...      ...        ...             ...                  ...\n",
       "5014    2022-08-22     8453        PWW  SEATTLE REGION  WASHINGTON EAST, WA\n",
       "5015    2022-08-22     8344        PWW  SEATTLE REGION  WASHINGTON EAST, WA\n",
       "5016    2022-08-22     8348        PWW  SEATTLE REGION  WASHINGTON WEST, WA\n",
       "5017    2022-08-22     8347        PWW  SEATTLE REGION  WASHINGTON WEST, WA\n",
       "5018    2022-08-22     8331        PWW  SEATTLE REGION  WASHINGTON EAST, WA\n",
       "\n",
       "[1750 rows x 5 columns]"
      ]
     },
     "execution_count": 41,
     "metadata": {},
     "output_type": "execute_result"
    }
   ],
   "source": [
    "sea_pht"
   ]
  },
  {
   "cell_type": "code",
   "execution_count": 42,
   "metadata": {},
   "outputs": [],
   "source": [
    "# sea_pht[['Tech ID', 'PHT Result']][sea_pht['Tech ID'] == 8465].value_counts()"
   ]
  },
  {
   "cell_type": "code",
   "execution_count": 43,
   "metadata": {},
   "outputs": [
    {
     "data": {
      "text/plain": [
       "FAL       3\n",
       "PAS    1149\n",
       "PWO      16\n",
       "PWW     582\n",
       "Name: PHT Result, dtype: int64"
      ]
     },
     "execution_count": 43,
     "metadata": {},
     "output_type": "execute_result"
    }
   ],
   "source": [
    "sea_pht['PHT Result'].value_counts().sort_index()"
   ]
  },
  {
   "cell_type": "code",
   "execution_count": 44,
   "metadata": {},
   "outputs": [],
   "source": [
    "def sort_pht ():\n",
    "\n",
    "    df = pd.DataFrame(columns = ['Tech ID', 'PHT Fail', 'PHT Pass', 'PHT PWO', 'PHT PWW'])\n",
    "    \n",
    "    for id in sea_pht['Tech ID']:\n",
    "        tech_pht = sea_pht[['Tech ID', 'PHT Result']][sea_pht['Tech ID'] == id].value_counts().sort_index()\n",
    "        df.loc[len(df)] = tech_pht\n",
    "\n",
    "    return tech_pht"
   ]
  },
  {
   "cell_type": "code",
   "execution_count": 45,
   "metadata": {},
   "outputs": [
    {
     "data": {
      "text/plain": [
       "Tech ID  PHT Result\n",
       "8331     PAS           22\n",
       "         PWW           10\n",
       "dtype: int64"
      ]
     },
     "execution_count": 45,
     "metadata": {},
     "output_type": "execute_result"
    }
   ],
   "source": [
    "sort_pht()"
   ]
  },
  {
   "cell_type": "code",
   "execution_count": null,
   "metadata": {},
   "outputs": [],
   "source": []
  }
 ],
 "metadata": {
  "kernelspec": {
   "display_name": "Python 3.10.7 64-bit (microsoft store)",
   "language": "python",
   "name": "python3"
  },
  "language_info": {
   "codemirror_mode": {
    "name": "ipython",
    "version": 3
   },
   "file_extension": ".py",
   "mimetype": "text/x-python",
   "name": "python",
   "nbconvert_exporter": "python",
   "pygments_lexer": "ipython3",
   "version": "3.10.7"
  },
  "orig_nbformat": 4,
  "vscode": {
   "interpreter": {
    "hash": "2a9fe614fdad468b7a4820591bc79c123cb436a8bc5504c65d8df4085e1805de"
   }
  }
 },
 "nbformat": 4,
 "nbformat_minor": 2
}
