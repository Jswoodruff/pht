{
 "cells": [
  {
   "cell_type": "code",
   "execution_count": 15,
   "metadata": {},
   "outputs": [],
   "source": [
    "import pandas as pd\n",
    "import numpy as np\n",
    "import os \n",
    "from pathlib import Path\n",
    "import warnings\n",
    "import matplotlib.pyplot as plt\n",
    "\n",
    "warnings.filterwarnings(\"ignore\")"
   ]
  },
  {
   "cell_type": "code",
   "execution_count": 16,
   "metadata": {},
   "outputs": [],
   "source": [
    "# filepath2 = os.path.join(Path(__file__).parents[1], 'data\\Trend_Full_Data_data (1).xlsx')"
   ]
  },
  {
   "cell_type": "code",
   "execution_count": 17,
   "metadata": {},
   "outputs": [],
   "source": [
    "# filepath2 = os.path.join(Path(__file__).parents[1], 'data\\FICS48HourCallBack(1).xlsx')\n",
    "# df = pd.read_excel(r'C:\\Users\\jwood\\OneDrive\\Desktop\\Work Folder\\Work Folder\\Project_2\\data\\BP Tool Usage Detail(1).xlsx', skiprows=2, header=0)\n",
    "\n",
    "df = pd.read_excel(r'C:\\Users\\jwood\\OneDrive\\Desktop\\Work Folder\\Work Folder\\Project_2\\data\\Trend_Full_Data_data (1).xlsx')"
   ]
  },
  {
   "cell_type": "code",
   "execution_count": 18,
   "metadata": {},
   "outputs": [],
   "source": [
    "# df.columns"
   ]
  },
  {
   "cell_type": "code",
   "execution_count": 19,
   "metadata": {},
   "outputs": [],
   "source": [
    "pht = df[['Complete Date', 'Tech ID', 'PHT Result', 'Region', 'System']]\n",
    "wa_pht = pht[pht['Region'] == 'SEATTLE REGION']\n",
    "spokane_pht = wa_pht[wa_pht['System'] == \"SPOKANE, WA\"]\n",
    "sea_pht = wa_pht[wa_pht['System'] != \"SPOKANE, WA\"]"
   ]
  },
  {
   "cell_type": "code",
   "execution_count": 20,
   "metadata": {},
   "outputs": [],
   "source": [
    "# sea_pht"
   ]
  },
  {
   "cell_type": "code",
   "execution_count": 21,
   "metadata": {},
   "outputs": [],
   "source": [
    "# sea_pht[['Tech ID', 'PHT Result']][sea_pht['Tech ID'] == 8465].value_counts()"
   ]
  },
  {
   "cell_type": "code",
   "execution_count": 22,
   "metadata": {},
   "outputs": [
    {
     "data": {
      "text/plain": [
       "FAL       3\n",
       "PAS    1149\n",
       "PWO      16\n",
       "PWW     582\n",
       "Name: PHT Result, dtype: int64"
      ]
     },
     "execution_count": 22,
     "metadata": {},
     "output_type": "execute_result"
    }
   ],
   "source": [
    "sea_pht['PHT Result'].value_counts().sort_index()"
   ]
  },
  {
   "cell_type": "code",
   "execution_count": 23,
   "metadata": {},
   "outputs": [],
   "source": [
    "def sort_pht ():\n",
    "\n",
    "    df = pd.DataFrame(columns = ['Tech ID', 'PHT Fail', 'PHT Pass', 'PHT PWO', 'PHT PWW'])\n",
    "    \n",
    "    for id in sea_pht['Tech ID']:\n",
    "        tech_pht = sea_pht[['Tech ID', 'PHT Result']][sea_pht['Tech ID'] == id].value_counts().sort_index()\n",
    "        df.loc[len(df)] = tech_pht\n",
    "\n",
    "    return tech_pht"
   ]
  },
  {
   "cell_type": "code",
   "execution_count": 24,
   "metadata": {},
   "outputs": [
    {
     "data": {
      "text/plain": [
       "Tech ID  PHT Result\n",
       "8331     PAS           22\n",
       "         PWW           10\n",
       "dtype: int64"
      ]
     },
     "execution_count": 24,
     "metadata": {},
     "output_type": "execute_result"
    }
   ],
   "source": [
    "sort_pht()"
   ]
  },
  {
   "cell_type": "code",
   "execution_count": 25,
   "metadata": {},
   "outputs": [],
   "source": [
    "def run_app():\n",
    "    \n",
    "\n",
    "    pht = df[['Complete Date', 'Tech ID', 'PHT Result', 'Region', 'System']]\n",
    "    wa_pht = pht[pht['Region'] == 'SEATTLE REGION']\n",
    "    spokane_pht = wa_pht[wa_pht['System'] == \"SPOKANE, WA\"]\n",
    "    sea_pht = wa_pht[wa_pht['System'] != \"SPOKANE, WA\"]\n",
    "\n",
    "\n",
    "    test = sea_pht['PHT Result'].value_counts().sort_index()\n",
    "\n",
    "    return print(test)"
   ]
  },
  {
   "cell_type": "code",
   "execution_count": 26,
   "metadata": {},
   "outputs": [
    {
     "name": "stdout",
     "output_type": "stream",
     "text": [
      "FAL       3\n",
      "PAS    1149\n",
      "PWO      16\n",
      "PWW     582\n",
      "Name: PHT Result, dtype: int64\n"
     ]
    }
   ],
   "source": [
    "run_app()"
   ]
  },
  {
   "cell_type": "code",
   "execution_count": null,
   "metadata": {},
   "outputs": [],
   "source": []
  }
 ],
 "metadata": {
  "kernelspec": {
   "display_name": "Python 3.10.7 64-bit (microsoft store)",
   "language": "python",
   "name": "python3"
  },
  "language_info": {
   "codemirror_mode": {
    "name": "ipython",
    "version": 3
   },
   "file_extension": ".py",
   "mimetype": "text/x-python",
   "name": "python",
   "nbconvert_exporter": "python",
   "pygments_lexer": "ipython3",
   "version": "3.10.7"
  },
  "orig_nbformat": 4,
  "vscode": {
   "interpreter": {
    "hash": "2a9fe614fdad468b7a4820591bc79c123cb436a8bc5504c65d8df4085e1805de"
   }
  }
 },
 "nbformat": 4,
 "nbformat_minor": 2
}
