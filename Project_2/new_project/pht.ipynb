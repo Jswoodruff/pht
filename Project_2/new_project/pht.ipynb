{
 "cells": [
  {
   "cell_type": "code",
   "execution_count": 1,
   "metadata": {},
   "outputs": [],
   "source": [
    "import pandas as pd\n",
    "import numpy as np\n",
    "import os \n",
    "from pathlib import Path\n",
    "import warnings\n",
    "import matplotlib.pyplot as plt\n",
    "\n",
    "warnings.filterwarnings(\"ignore\")"
   ]
  },
  {
   "cell_type": "code",
   "execution_count": 2,
   "metadata": {},
   "outputs": [],
   "source": [
    "# filepath2 = os.path.join(Path(__file__).parents[1], 'data\\Trend_Full_Data_data (1).xlsx')"
   ]
  },
  {
   "cell_type": "code",
   "execution_count": 3,
   "metadata": {},
   "outputs": [],
   "source": [
    "# filepath2 = os.path.join(Path(__file__).parents[1], 'data\\FICS48HourCallBack(1).xlsx')\n",
    "# df = pd.read_excel(r'C:\\Users\\jwood\\OneDrive\\Desktop\\Work Folder\\Work Folder\\Project_2\\data\\BP Tool Usage Detail(1).xlsx', skiprows=2, header=0)\n",
    "\n",
    "df = pd.read_excel(r'C:\\Users\\jwood\\OneDrive\\Desktop\\Work Folder\\Work Folder\\Project_2\\data\\Trend_Full_Data_data (1).xlsx', header = 0)"
   ]
  },
  {
   "cell_type": "code",
   "execution_count": 4,
   "metadata": {},
   "outputs": [],
   "source": [
    "pht = df[['Complete Date', 'Tech ID', 'PHT Result', 'Region', 'System']]\n",
    "wa_pht = pht[pht['Region'] == 'SEATTLE REGION']\n",
    "spokane_pht = wa_pht[wa_pht['System'] == \"SPOKANE, WA\"]\n",
    "sea_pht = wa_pht[wa_pht['System'] != \"SPOKANE, WA\"]"
   ]
  },
  {
   "cell_type": "code",
   "execution_count": 5,
   "metadata": {},
   "outputs": [],
   "source": [
    "# sea_pht[['Tech ID', 'PHT Result']][sea_pht['Tech ID'] == 8465].value_counts()"
   ]
  },
  {
   "cell_type": "code",
   "execution_count": 6,
   "metadata": {},
   "outputs": [],
   "source": [
    "pht_fail = sea_pht['PHT Result'].value_counts().sort_index()[0]\n",
    "pht_pass = sea_pht['PHT Result'].value_counts().sort_index()[1]\n",
    "pht_pww = sea_pht['PHT Result'].value_counts().sort_index()[3]"
   ]
  },
  {
   "cell_type": "code",
   "execution_count": 23,
   "metadata": {},
   "outputs": [],
   "source": [
    "def sort_pht ():\n",
    "\n",
    "    df1 = pd.DataFrame(columns = ['Tech ID', 'PHT Fail', 'PHT Pass', 'PHT PWO', 'PHT PWW'])\n",
    "    \n",
    "    for id in sea_pht['Tech ID']:\n",
    "        tech_pht = sea_pht[['Tech ID', 'PHT Result']][sea_pht['Tech ID'] == id].value_counts().sort_index()\n",
    "        df.loc[len(df)] = tech_pht\n",
    "\n",
    "    return df1"
   ]
  },
  {
   "cell_type": "code",
   "execution_count": 22,
   "metadata": {},
   "outputs": [
    {
     "data": {
      "text/html": [
       "<div>\n",
       "<style scoped>\n",
       "    .dataframe tbody tr th:only-of-type {\n",
       "        vertical-align: middle;\n",
       "    }\n",
       "\n",
       "    .dataframe tbody tr th {\n",
       "        vertical-align: top;\n",
       "    }\n",
       "\n",
       "    .dataframe thead th {\n",
       "        text-align: right;\n",
       "    }\n",
       "</style>\n",
       "<table border=\"1\" class=\"dataframe\">\n",
       "  <thead>\n",
       "    <tr style=\"text-align: right;\">\n",
       "      <th></th>\n",
       "      <th>Tech ID</th>\n",
       "      <th>PHT Fail</th>\n",
       "      <th>PHT Pass</th>\n",
       "      <th>PHT PWO</th>\n",
       "      <th>PHT PWW</th>\n",
       "    </tr>\n",
       "  </thead>\n",
       "  <tbody>\n",
       "  </tbody>\n",
       "</table>\n",
       "</div>"
      ],
      "text/plain": [
       "Empty DataFrame\n",
       "Columns: [Tech ID, PHT Fail, PHT Pass, PHT PWO, PHT PWW]\n",
       "Index: []"
      ]
     },
     "execution_count": 22,
     "metadata": {},
     "output_type": "execute_result"
    }
   ],
   "source": [
    "sort_pht()"
   ]
  },
  {
   "cell_type": "code",
   "execution_count": 26,
   "metadata": {},
   "outputs": [],
   "source": [
    "def run_app():\n",
    "    \n",
    "\n",
    "    pht = df[['Complete Date', 'Tech ID', 'PHT Result', 'Region', 'System']]\n",
    "    wa_pht = pht[pht['Region'] == 'SEATTLE REGION']\n",
    "    spokane_pht = wa_pht[wa_pht['System'] == \"SPOKANE, WA\"]\n",
    "    sea_pht = wa_pht[wa_pht['System'] != \"SPOKANE, WA\"]\n",
    "\n",
    "\n",
    "    test = sea_pht['PHT Result'].value_counts().sort_index()\n",
    "\n",
    "    pht_fail = sea_pht['PHT Result'].value_counts().sort_index()[0]\n",
    "    pht_pass = sea_pht['PHT Result'].value_counts().sort_index()[1]\n",
    "    pht_pww = sea_pht['PHT Result'].value_counts().sort_index()[3]\n",
    "\n",
    "\n",
    "    return pht_fail, pht_pass, pht_pww"
   ]
  },
  {
   "cell_type": "code",
   "execution_count": 27,
   "metadata": {},
   "outputs": [
    {
     "data": {
      "text/plain": [
       "(3, 1149, 582)"
      ]
     },
     "execution_count": 27,
     "metadata": {},
     "output_type": "execute_result"
    }
   ],
   "source": [
    "run_app()"
   ]
  },
  {
   "cell_type": "code",
   "execution_count": null,
   "metadata": {},
   "outputs": [],
   "source": []
  }
 ],
 "metadata": {
  "kernelspec": {
   "display_name": "Python 3.10.7 64-bit (microsoft store)",
   "language": "python",
   "name": "python3"
  },
  "language_info": {
   "codemirror_mode": {
    "name": "ipython",
    "version": 3
   },
   "file_extension": ".py",
   "mimetype": "text/x-python",
   "name": "python",
   "nbconvert_exporter": "python",
   "pygments_lexer": "ipython3",
   "version": "3.10.7"
  },
  "orig_nbformat": 4,
  "vscode": {
   "interpreter": {
    "hash": "2a9fe614fdad468b7a4820591bc79c123cb436a8bc5504c65d8df4085e1805de"
   }
  }
 },
 "nbformat": 4,
 "nbformat_minor": 2
}
